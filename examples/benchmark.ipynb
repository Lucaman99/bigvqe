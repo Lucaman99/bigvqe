{
 "cells": [
  {
   "cell_type": "markdown",
   "id": "3813150f-4c7e-4f0c-ba92-6370e4903054",
   "metadata": {},
   "source": [
    "# Benchmark"
   ]
  },
  {
   "cell_type": "code",
   "execution_count": 1,
   "id": "47b98919-91f3-4d99-a46f-e198667d634b",
   "metadata": {},
   "outputs": [
    {
     "name": "stderr",
     "output_type": "stream",
     "text": [
      "/Library/Frameworks/Python.framework/Versions/3.9/lib/python3.9/site-packages/pyscf/lib/misc.py:46: H5pyDeprecationWarning: Using default_file_mode other than 'r' is deprecated. Pass the mode to h5py.File() instead.\n",
      "  h5py.get_config().default_file_mode = 'a'\n"
     ]
    }
   ],
   "source": [
    "import numpy as np\n",
    "import bigvqe as bv\n",
    "import autohf as hf\n",
    "from pennylane import qchem\n",
    "import chemistry as chem\n",
    "from matplotlib import pyplot as plt\n",
    "import time\n",
    "from openfermion.chem.molecular_data import spinorb_from_spatial\n",
    "from openfermion import jordan_wigner, get_sparse_operator, InteractionOperator, get_fermion_operator\n",
    "import pennylane as qml\n",
    "import openfermion\n",
    "\n",
    "import pandas as pd\n",
    "import matplotlib.pyplot as plt\n",
    "%matplotlib inline"
   ]
  },
  {
   "cell_type": "markdown",
   "id": "63021ce0-d689-4693-a2d9-d6cc72012218",
   "metadata": {},
   "source": [
    "In this Notebook, we benchmark the `bigvqe` method of generating sparse fermionic Hamiltonians against the currently implemented methods in PennyLane and OpenFermion. We begin by defining the molecules we will use in the simulations."
   ]
  },
  {
   "cell_type": "code",
   "execution_count": 2,
   "id": "3acffc53-2cb0-4d48-8377-b1210c2c88fe",
   "metadata": {},
   "outputs": [],
   "source": [
    "# BeH2 data (DO EXAMPLE)\n",
    "beh2_structure = ['Be', 'H', 'H']\n",
    "beh2_charges = [4, 1, 1]\n",
    "beh2_orbitals = 7\n",
    "beh2_R = np.array([0.0, 0.0, 0.0, -1.0, 0.0, 0.0, 1.0, 0.0, 0.0])\n",
    "beh2_core, beh2_active = qchem.active_space(sum(beh2_charges), beh2_orbitals, active_electrons=sum(beh2_charges), active_orbitals=beh2_orbitals)\n",
    "\n",
    "# Ammonia data\n",
    "nh3_structure = ['N', 'H', 'H', 'H']\n",
    "nh3_charges = [7, 1, 1, 1]\n",
    "nh3_orbitals = 8\n",
    "nh3_R = np.array([0.0, 0.0, 0.0, 1.0, 0.0, 0.0, -1.0, 0.0, 0.0, 0.0, 1.0, 0.0])\n",
    "nh3_core, nh3_active = qchem.active_space(sum(nh3_charges), nh3_orbitals, active_electrons=sum(nh3_charges), active_orbitals=nh3_orbitals)\n",
    "\n",
    "# Methane data\n",
    "ch4_structure = ['C', 'H', 'H', 'H', 'H']\n",
    "ch4_charges = [6, 1, 1, 1, 1]\n",
    "ch4_orbitals = 9\n",
    "ch4_R = np.array([0.0, 0.0, 0.0, 1.0, 0.0, 0.0, -1.0, 0.0, 0.0, 0.0, 1.0, 0.0, 0.0, -1.0, 0.0])\n",
    "ch4_core, ch4_active = qchem.active_space(sum(ch4_charges), ch4_orbitals, active_electrons=sum(ch4_charges), active_orbitals=ch4_orbitals)"
   ]
  },
  {
   "cell_type": "code",
   "execution_count": 3,
   "id": "49b10d4f-c56e-4f84-b174-1dad1e79c118",
   "metadata": {},
   "outputs": [
    {
     "name": "stdout",
     "output_type": "stream",
     "text": [
      "PennyLane time = 4.257962386000001 seconds\n",
      "OpenFermion time = 2.8014341560000027 seconds\n",
      "BigVQE time = 0.21314844500000163 seconds\n"
     ]
    }
   ],
   "source": [
    "##### BeH2 Hamiltonians #######\n",
    "\n",
    "# Generates the electron integrals\n",
    "\n",
    "basis_set = []\n",
    "A1, A2, A3 = hf.basis_set_params(\"sto-3g\", beh2_structure)\n",
    "\n",
    "for func in A1 + A2 + A3:\n",
    "    L, exp, coeff = func\n",
    "    basis_set.append(hf.AtomicBasisFunction(L, C=np.array(coeff), A=np.array(exp)))\n",
    "\n",
    "hf_b = [basis_set[0:5], [basis_set[5]], [basis_set[6]]]\n",
    "elec_func = chem.electron_integrals(hf_b, sum(beh2_charges), beh2_charges, core=beh2_core, active=beh2_active)\n",
    "\n",
    "core_ad, one, two = elec_func(beh2_R)\n",
    "\n",
    "# Generates the Hamiltonians (note we dont add the core adjustment or nuclear repulsion)\n",
    "\n",
    "#########################################\n",
    "\n",
    "Ri = beh2_R.reshape((len(beh2_charges), 3))\n",
    "geometry = list(zip(beh2_structure, (1 / chem.electronic.angs_bohr) * Ri))\n",
    "wires = list(range(2 * beh2_orbitals))\n",
    "\n",
    "start = time.time()\n",
    "H_pl = qml.utils.sparse_hamiltonian(hf.build_h_from_integrals(geometry, one, two, 0.0, wires)) # PennyLane Hamiltonian\n",
    "print(\"PennyLane time = {} seconds\".format(time.time() - start))\n",
    "\n",
    "#########################################\n",
    "\n",
    "h1s, h2s = spinorb_from_spatial(one, two)\n",
    "h2s = (1/2) * h2s\n",
    "mol = InteractionOperator(0, h1s, h2s)\n",
    "ham_fop = get_fermion_operator(mol)\n",
    "\n",
    "start = time.time()\n",
    "H_of = openfermion.linalg.jordan_wigner_sparse(ham_fop) # OpenFermion Hamiltonian\n",
    "print(\"OpenFermion time = {} seconds\".format(time.time() - start))\n",
    "\n",
    "#########################################\n",
    "\n",
    "start = time.time()\n",
    "H_bv = bv.sparse_H(one, two) # BigVQE Hamiltonian\n",
    "print(\"BigVQE time = {} seconds\".format(time.time() - start))"
   ]
  },
  {
   "cell_type": "code",
   "execution_count": 5,
   "id": "0a747a37-3c4e-4185-92dd-78d3a86ea0e7",
   "metadata": {},
   "outputs": [
    {
     "name": "stdout",
     "output_type": "stream",
     "text": [
      "  (3, 3)\t(1.3389692140180927+0j)\n",
      "  (12, 3)\t(0.4157662241426259+0j)\n",
      "  (48, 3)\t(0.02831154871188102+0j)\n",
      "  (192, 3)\t(0.028311548711881185+0j)\n",
      "  (264, 3)\t(-0.12097257374413761+0j)\n",
      "  (516, 3)\t(0.12097257374413761+0j)\n",
      "  (768, 3)\t(0.10483028379819359+0j)\n",
      "  (1026, 3)\t(0.37162825026669033+0j)\n",
      "  (2049, 3)\t(-0.37162825026669033+0j)\n",
      "  (3072, 3)\t(0.2940566085763847+0j)\n",
      "  (4104, 3)\t(0.08990564881730134+0j)\n",
      "  (4608, 3)\t(0.03662223737392071+0j)\n",
      "  (8196, 3)\t(-0.08990564881730134+0j)\n",
      "  (8448, 3)\t(-0.03662223737392071+0j)\n",
      "  (12288, 3)\t(0.02509288194196141+0j)\n",
      "  (5, 5)\t(-0.3175159998099444+0j)\n",
      "  (257, 5)\t(-0.06652523699017543+0j)\n",
      "  (1028, 5)\t(-0.019527215621588212+0j)\n",
      "  (1280, 5)\t(-0.027785820412512985+0j)\n",
      "  (4097, 5)\t(-0.01899922313593505+0j)\n",
      "  (5120, 5)\t(0.019364863670858573+0j)\n",
      "  (6, 6)\t(0.7332822239525569+0j)\n",
      "  (9, 6)\t(-1.0507982237625013+0j)\n",
      "  (258, 6)\t(0.18749781073431504+0j)\n",
      "  (513, 6)\t(-0.25402304772449047+0j)\n",
      "  :\t:\n",
      "  (16126, 16378)\t(-1.2033700125474753+0j)\n",
      "  (16378, 16378)\t(16.510799381989884+0j)\n",
      "  (12287, 16379)\t(-0.7637889966160075+0j)\n",
      "  (16127, 16379)\t(-1.1368447755572983+0j)\n",
      "  (16379, 16379)\t(19.063653691700832+0j)\n",
      "  (4095, 16380)\t(0.025092881941961444+0j)\n",
      "  (7935, 16380)\t(-0.036622237373920584+0j)\n",
      "  (8187, 16380)\t(-0.08990564881729834+0j)\n",
      "  (11775, 16380)\t(0.036622237373920584+0j)\n",
      "  (12279, 16380)\t(0.08990564881729834+0j)\n",
      "  (13311, 16380)\t(0.29405660857639004+0j)\n",
      "  (14334, 16380)\t(0.842271542466126+0j)\n",
      "  (15357, 16380)\t(-0.842271542466126+0j)\n",
      "  (15615, 16380)\t(0.10483028379819243+0j)\n",
      "  (15867, 16380)\t(0.12097257374413961+0j)\n",
      "  (16119, 16380)\t(-0.12097257374413961+0j)\n",
      "  (16191, 16380)\t(0.02831154871188083+0j)\n",
      "  (16335, 16380)\t(0.028311548711881185+0j)\n",
      "  (16371, 16380)\t(0.4157662241425939+0j)\n",
      "  (16380, 16380)\t(18.779938974032852+0j)\n",
      "  (14335, 16381)\t(1.213899792732819+0j)\n",
      "  (16381, 16381)\t(19.67630806991576+0j)\n",
      "  (15359, 16382)\t(1.213899792732819+0j)\n",
      "  (16382, 16382)\t(19.67630806991575+0j)\n",
      "  (16383, 16383)\t(21.911646379816695+0j)\n"
     ]
    }
   ],
   "source": [
    "print(H_of - H_bv)"
   ]
  },
  {
   "cell_type": "code",
   "execution_count": 38,
   "id": "995cf08a-e0e8-4a59-a6d1-e8477ceace18",
   "metadata": {},
   "outputs": [
    {
     "name": "stdout",
     "output_type": "stream",
     "text": [
      "PennyLane time = 78.43107087000044 seconds\n",
      "OpenFermion time = 19.112023925999893 seconds\n",
      "BigVQE time = 0.8529782239993438 seconds\n"
     ]
    }
   ],
   "source": [
    "##### Ammonia Hamiltonians #######\n",
    "\n",
    "# Generates the electron integrals\n",
    "\n",
    "basis_set = []\n",
    "A1, A2, A3, A4 = hf.basis_set_params(\"sto-3g\", nh3_structure)\n",
    "\n",
    "for func in A1 + A2 + A3 + A4:\n",
    "    L, exp, coeff = func\n",
    "    basis_set.append(hf.AtomicBasisFunction(L, C=np.array(coeff), A=np.array(exp)))\n",
    "\n",
    "hf_b = [basis_set[0:5], [basis_set[5]], [basis_set[6]], [basis_set[7]]]\n",
    "elec_func = chem.electron_integrals(hf_b, sum(nh3_charges), nh3_charges, core=nh3_core, active=nh3_active)\n",
    "\n",
    "core_ad, one, two = elec_func(nh3_R)\n",
    "\n",
    "# Generates the Hamiltonians (note we dont add the core adjustment or nuclear repulsion)\n",
    "\n",
    "#########################################\n",
    "\n",
    "Ri = nh3_R.reshape((len(nh3_charges), 3))\n",
    "geometry = list(zip(nh3_structure, (1 / chem.electronic.angs_bohr) * Ri))\n",
    "wires = list(range(2 * nh3_orbitals))\n",
    "\n",
    "start = time.time()\n",
    "H_pl = qml.utils.sparse_hamiltonian(hf.build_h_from_integrals(geometry, one, two, 0.0, wires)) # PennyLane Hamiltonian\n",
    "print(\"PennyLane time = {} seconds\".format(time.time() - start))\n",
    "\n",
    "#########################################\n",
    "\n",
    "h1s, h2s = spinorb_from_spatial(one, two)\n",
    "h2s = (1/2) * h2s\n",
    "mol = InteractionOperator(0, h1s, h2s)\n",
    "ham_fop = get_fermion_operator(mol)\n",
    "\n",
    "start = time.time()\n",
    "H_of = openfermion.linalg.jordan_wigner_sparse(ham_fop) # OpenFermion Hamiltonian\n",
    "print(\"OpenFermion time = {} seconds\".format(time.time() - start))\n",
    "\n",
    "#########################################\n",
    "\n",
    "start = time.time()\n",
    "H_bv = bv.sparse_H(one, two) # BigVQE Hamiltonian\n",
    "print(\"BigVQE time = {} seconds\".format(time.time() - start))"
   ]
  },
  {
   "cell_type": "code",
   "execution_count": 42,
   "id": "773284f7-b457-4a29-8d4d-42eea7443803",
   "metadata": {},
   "outputs": [
    {
     "name": "stdout",
     "output_type": "stream",
     "text": [
      "PennyLane time = 756.7170981239997 seconds\n",
      "OpenFermion time = 114.18937235400062 seconds\n",
      "BigVQE time = 2.9978779019993453 seconds\n"
     ]
    }
   ],
   "source": [
    "##### Methane Hamiltonians #######\n",
    "\n",
    "# Generates the electron integrals\n",
    "\n",
    "basis_set = []\n",
    "A1, A2, A3, A4, A5 = hf.basis_set_params(\"sto-3g\", ch4_structure)\n",
    "\n",
    "for func in A1 + A2 + A3 + A4 + A5:\n",
    "    L, exp, coeff = func\n",
    "    basis_set.append(hf.AtomicBasisFunction(L, C=np.array(coeff), A=np.array(exp)))\n",
    "\n",
    "hf_b = [basis_set[0:5], [basis_set[5]], [basis_set[6]], [basis_set[7]], [basis_set[8]]]\n",
    "elec_func = chem.electron_integrals(hf_b, sum(ch4_charges), ch4_charges, core=ch4_core, active=ch4_active)\n",
    "\n",
    "core_ad, one, two = elec_func(ch4_R)\n",
    "\n",
    "# Generates the Hamiltonians (note we dont add the core adjustment or nuclear repulsion)\n",
    "\n",
    "#########################################\n",
    "\n",
    "Ri = ch4_R.reshape((len(ch4_charges), 3))\n",
    "geometry = list(zip(ch4_structure, (1 / chem.electronic.angs_bohr) * Ri))\n",
    "wires = list(range(2 * ch4_orbitals))\n",
    "\n",
    "start = time.time()\n",
    "H_pl = qml.utils.sparse_hamiltonian(hf.build_h_from_integrals(geometry, one, two, 0.0, wires)) # PennyLane Hamiltonian\n",
    "print(\"PennyLane time = {} seconds\".format(time.time() - start))\n",
    "\n",
    "#########################################\n",
    "\n",
    "h1s, h2s = spinorb_from_spatial(one, two)\n",
    "h2s = (1/2) * h2s\n",
    "mol = InteractionOperator(0, h1s, h2s)\n",
    "ham_fop = get_fermion_operator(mol)\n",
    "\n",
    "start = time.time()\n",
    "H_of = openfermion.linalg.jordan_wigner_sparse(ham_fop) # OpenFermion Hamiltonian\n",
    "print(\"OpenFermion time = {} seconds\".format(time.time() - start))\n",
    "\n",
    "#########################################\n",
    "\n",
    "start = time.time()\n",
    "H_bv = bv.sparse_H(one, two) # BigVQE Hamiltonian\n",
    "print(\"BigVQE time = {} seconds\".format(time.time() - start))"
   ]
  },
  {
   "cell_type": "code",
   "execution_count": 78,
   "id": "e00a5926-167b-4359-9fe5-9a670d75512c",
   "metadata": {},
   "outputs": [
    {
     "data": {
      "text/plain": [
       "<AxesSubplot:xlabel='Hamiltonian'>"
      ]
     },
     "execution_count": 78,
     "metadata": {},
     "output_type": "execute_result"
    },
    {
     "data": {
      "image/png": "[encoded data removed]",
      "text/plain": [
       "<Figure size 1440x720 with 1 Axes>"
      ]
     },
     "metadata": {
      "needs_background": "light"
     },
     "output_type": "display_data"
    }
   ],
   "source": [
    "plt.rcParams[\"figure.figsize\"] = [20, 10]\n",
    "\n",
    "df = pd.DataFrame([['BeH2', 'BeH2', 'BeH2', 'NH3', 'NH3', 'NH3', '`CH4', '`CH4', '`CH4'],\n",
    "                   ['PennyLane','OpenFermion','BigVQE', 'PennyLane','OpenFermion','BigVQE', 'PennyLane','OpenFermion','BigVQE'], \n",
    "                   [3.8648626419999346, 2.6027363729999706, 0.23977137800011405, 78.43107087000044, 19.112023925999893, 0.8529782239993438, 756.7170981239997, 114.18937235400062, 2.9978779019993453]]).T\n",
    "\n",
    "df.columns = ['Hamiltonian', 'type', 'sparse method']\n",
    "df.set_index(['Hamiltonian', 'type'], inplace=True)\n",
    "\n",
    "df.unstack().plot.bar()"
   ]
  },
  {
   "cell_type": "code",
   "execution_count": null,
   "id": "946018fe-7a2b-452f-b171-61e262b4a9f1",
   "metadata": {},
   "outputs": [],
   "source": []
  }
 ],
 "metadata": {
  "kernelspec": {
   "display_name": "Python 3 (ipykernel)",
   "language": "python",
   "name": "python3"
  },
  "language_info": {
   "codemirror_mode": {
    "name": "ipython",
    "version": 3
   },
   "file_extension": ".py",
   "mimetype": "text/x-python",
   "name": "python",
   "nbconvert_exporter": "python",
   "pygments_lexer": "ipython3",
   "version": "3.9.6"
  }
 },
 "nbformat": 4,
 "nbformat_minor": 5
}
